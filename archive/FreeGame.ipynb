{
 "cells": [
  {
   "cell_type": "code",
   "execution_count": 1,
   "id": "cbd01090",
   "metadata": {},
   "outputs": [],
   "source": [
    "import json\n",
    "import pandas as pd\n",
    "\n",
    "# JSON 파일 로드\n",
    "with open(r'C:\\pyproject\\archive\\games.json', 'r', encoding='utf-8') as f:\n",
    "    data = json.load(f)"
   ]
  },
  {
   "cell_type": "code",
   "execution_count": 2,
   "id": "8461c3cf",
   "metadata": {},
   "outputs": [],
   "source": [
    "records = []\n",
    "for app_id, info in data.items():\n",
    "    try:\n",
    "        price = info.get('price', 0)\n",
    "        genres = info.get('genres', [])\n",
    "        if genres:\n",
    "            records.append({\n",
    "                'name': info.get('name', ''),\n",
    "                'price': price,\n",
    "                'genres': genres\n",
    "            })\n",
    "    except:\n",
    "        continue\n",
    "\n",
    "df = pd.DataFrame(records)"
   ]
  },
  {
   "cell_type": "code",
   "execution_count": 3,
   "id": "364796c7",
   "metadata": {},
   "outputs": [
    {
     "name": "stdout",
     "output_type": "stream",
     "text": [
      "                                       name  price  \\\n",
      "5                            Wartune Reborn    0.0   \n",
      "45                                CasinoRPG    0.0   \n",
      "88                       Escape From School    0.0   \n",
      "92      Teleporter: World of Gamers (Alpha)    0.0   \n",
      "94                       Marching Simulator    0.0   \n",
      "...                                     ...    ...   \n",
      "104986                          Witch Hazel    0.0   \n",
      "104992                          Spider Land    0.0   \n",
      "105000                            Cyber-ART    0.0   \n",
      "105002                              PlanetX    0.0   \n",
      "105010                           AccuBow VR    0.0   \n",
      "\n",
      "                                                   genres  \n",
      "5       [Adventure, Casual, Free to Play, Massively Mu...  \n",
      "45      [Casual, Free to Play, Indie, Massively Multip...  \n",
      "88               [Action, Adventure, Free to Play, Indie]  \n",
      "92      [Free to Play, Massively Multiplayer, RPG, Sim...  \n",
      "94               [Free to Play, Simulation, Early Access]  \n",
      "...                                                   ...  \n",
      "104986                 [Casual, Simulation, Free To Play]  \n",
      "104992                      [Casual, Indie, Free To Play]  \n",
      "105000  [Casual, Indie, Simulation, Strategy, Free To ...  \n",
      "105002  [Indie, Massively Multiplayer, Strategy, Free ...  \n",
      "105010                  [Action, Adventure, Free To Play]  \n",
      "\n",
      "[9803 rows x 3 columns]\n",
      "개수: 9803\n"
     ]
    }
   ],
   "source": [
    "df['price'] = pd.to_numeric(df['price'], errors='coerce')\n",
    "has_free_zero = df[\n",
    "    (df['price'] == 0.0) &\n",
    "    df['genres'].apply(lambda g: any(x.lower().strip() == 'free to play' for x in g))\n",
    "]\n",
    "\n",
    "print(has_free_zero[['name', 'price', 'genres']])\n",
    "print(\"개수:\", len(has_free_zero))"
   ]
  },
  {
   "cell_type": "code",
   "execution_count": 4,
   "id": "b79db455",
   "metadata": {},
   "outputs": [
    {
     "name": "stdout",
     "output_type": "stream",
     "text": [
      "                                         name  price  \\\n",
      "498     Virus Madness - Dungeons of your Body   0.99   \n",
      "787                      Apocalypse Mechanism  14.99   \n",
      "1029                        Alley Cat Bowling   1.99   \n",
      "1623                               Mutant Ops   4.99   \n",
      "1782                                  Content   0.99   \n",
      "...                                       ...    ...   \n",
      "102226                    The OG Cake Factory   7.99   \n",
      "103435                               Spilled!   5.99   \n",
      "103887                           Lust's Cupid  19.99   \n",
      "104023        逃离梦魇(Escape from the nightmare)   0.99   \n",
      "104589                         100 Egypt Cats   0.89   \n",
      "\n",
      "                                                   genres  \n",
      "498     [Action, Casual, Free to Play, Indie, RPG, Sim...  \n",
      "787       [Action, Adventure, Free to Play, Early Access]  \n",
      "1029           [Casual, Free to Play, Simulation, Sports]  \n",
      "1623                        [Action, Free to Play, Indie]  \n",
      "1782             [Adventure, Casual, Free to Play, Indie]  \n",
      "...                                                   ...  \n",
      "102226           [Action, Adventure, Indie, Free To Play]  \n",
      "103435  [Adventure, Casual, Indie, Simulation, Free To...  \n",
      "103887                  [Indie, Simulation, Free To Play]  \n",
      "104023                  [Action, Adventure, Free To Play]  \n",
      "104589  [Action, Adventure, Casual, Indie, Sports, Str...  \n",
      "\n",
      "[286 rows x 3 columns]\n"
     ]
    }
   ],
   "source": [
    "# 'free to play' 장르인데 가격이 0이 아닌 게임 필터링\n",
    "free_but_paid = df[df['genres'].apply(lambda g: 'free to play' in [x.lower().strip() for x in g]) & (df['price'] > 0)]\n",
    "\n",
    "# 결과 출력\n",
    "print(free_but_paid[['name', 'price', 'genres']])"
   ]
  },
  {
   "cell_type": "code",
   "execution_count": null,
   "id": "d32fd92f",
   "metadata": {},
   "outputs": [],
   "source": []
  }
 ],
 "metadata": {
  "kernelspec": {
   "display_name": "Python 3",
   "language": "python",
   "name": "python3"
  },
  "language_info": {
   "codemirror_mode": {
    "name": "ipython",
    "version": 3
   },
   "file_extension": ".py",
   "mimetype": "text/x-python",
   "name": "python",
   "nbconvert_exporter": "python",
   "pygments_lexer": "ipython3",
   "version": "3.10.11"
  }
 },
 "nbformat": 4,
 "nbformat_minor": 5
}
